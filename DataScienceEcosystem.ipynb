{
 "cells": [
  {
   "cell_type": "markdown",
   "id": "93015eaf-97c0-46b3-9c5b-36d23619406b",
   "metadata": {},
   "source": [
    "# Data Science Tools and Techniques: Final Project\n"
   ]
  },
  {
   "cell_type": "markdown",
   "id": "878ddc57-71cf-476b-8625-5d2fe9c62168",
   "metadata": {},
   "source": [
    "## Introduction\n",
    "\n",
    "In this notebook, Data Science Tools and Ecosystem are summarized."
   ]
  },
  {
   "cell_type": "markdown",
   "id": "5c1e1f4c-5fe4-4e25-a666-f2f1e4637fb6",
   "metadata": {},
   "source": [
    "## Popular Data Science Languages\n",
    "Some of the popular languages that Data Scientists use are:\n",
    "\n",
    "1. Python\n",
    "2. R\n",
    "3. SQL\n",
    "4. Julia\n",
    "5. Scala"
   ]
  },
  {
   "cell_type": "markdown",
   "id": "0917699d-65dd-4a2e-a914-f45f7382a32e",
   "metadata": {},
   "source": [
    "## Commonly Used Data Science Libraries\n",
    "\n",
    "Some of the commonly used libraries used by Data Scientists include:\n",
    "\n",
    "1. NumPy\n",
    "2. Pandas\n",
    "3. Matplotlib\n",
    "4. Scikit-learn\n",
    "5. TensorFlow\n"
   ]
  },
  {
   "cell_type": "markdown",
   "id": "942219ba-e8f5-43f3-a4c6-a4051b39ab0a",
   "metadata": {},
   "source": [
    "## Data Science Tools\n",
    "\n",
    "| Data Science Tools |\n",
    "|--------------------|\n",
    "| Jupyter Notebook   |\n",
    "| RStudio            |\n",
    "| Apache Zeppelin    |\n"
   ]
  },
  {
   "cell_type": "markdown",
   "id": "ca9dc4b1-8b95-441d-bdb8-2d2be0d727ba",
   "metadata": {},
   "source": [
    "### Below are a few examples of evaluating arithmetic expressions in Python.\n"
   ]
  },
  {
   "cell_type": "code",
   "execution_count": 26,
   "id": "f26117bf-231a-467e-adde-d7b6d83546fe",
   "metadata": {},
   "outputs": [
    {
     "data": {
      "text/plain": [
       "17"
      ]
     },
     "execution_count": 26,
     "metadata": {},
     "output_type": "execute_result"
    }
   ],
   "source": [
    "# This is a simple arithmetic expression to multiply then add integers.\n",
    "(3 * 4) + 5\n"
   ]
  },
  {
   "cell_type": "code",
   "execution_count": 28,
   "id": "13e129fe-14d0-4f1e-9e39-6845624701ee",
   "metadata": {},
   "outputs": [
    {
     "data": {
      "text/plain": [
       "3.3333333333333335"
      ]
     },
     "execution_count": 28,
     "metadata": {},
     "output_type": "execute_result"
    }
   ],
   "source": [
    "# This will convert 200 minutes to hours by dividing by 60.\n",
    "200 / 60\n"
   ]
  },
  {
   "cell_type": "markdown",
   "id": "d3851edf-a5c2-4e3c-9c62-173cc19ed777",
   "metadata": {},
   "source": [
    "**Objectives:**\r\n",
    "\r\n",
    "- List popular languages for Data Science\r\n",
    "- List commonly used libraries in Data Science\r\n",
    "- Create tables to summarize tools\r\n",
    "- Demonstrate simple arithmetic operations in Python\r\n",
    "- Convert time from minutes to hours using Python\r\n"
   ]
  },
  {
   "cell_type": "markdown",
   "id": "33ad1406-8a92-4f75-b9a9-103736619607",
   "metadata": {},
   "source": [
    "**Author:** Kürşad Kulak\n"
   ]
  },
  {
   "cell_type": "code",
   "execution_count": null,
   "id": "140a8542-cee8-48d9-83dc-6289de80038c",
   "metadata": {},
   "outputs": [],
   "source": []
  }
 ],
 "metadata": {
  "kernelspec": {
   "display_name": "Python 3 (ipykernel)",
   "language": "python",
   "name": "python3"
  },
  "language_info": {
   "codemirror_mode": {
    "name": "ipython",
    "version": 3
   },
   "file_extension": ".py",
   "mimetype": "text/x-python",
   "name": "python",
   "nbconvert_exporter": "python",
   "pygments_lexer": "ipython3",
   "version": "3.11.7"
  }
 },
 "nbformat": 4,
 "nbformat_minor": 5
}
